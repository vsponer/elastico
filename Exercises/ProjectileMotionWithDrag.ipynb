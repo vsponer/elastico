{
 "cells": [
  {
   "cell_type": "markdown",
   "metadata": {},
   "source": [
    "# Computing the trajectory of a baseball using the Euler method"
   ]
  },
  {
   "cell_type": "code",
   "execution_count": 112,
   "metadata": {},
   "outputs": [
    {
     "name": "stdout",
     "output_type": "stream",
     "text": [
      "Maximum range is 141.27442 meters.\n",
      "Time of flight is 6.3 seconds.\n"
     ]
    },
    {
     "data": {
      "image/png": "[encoded data removed]",
      "text/plain": [
       "<Figure size 432x288 with 1 Axes>"
      ]
     },
     "metadata": {
      "needs_background": "light"
     },
     "output_type": "display_data"
    }
   ],
   "source": [
    "import numpy as np\n",
    "import math\n",
    "import matplotlib.pyplot as plt\n",
    "\n",
    "maxstep = 1000                                  #Maximum number of steps\n",
    "#r = input(\"Enter initial position r = [x,y]\")  #in meters [m]\n",
    "r = [0,0]\n",
    "rx = np.zeros(maxstep)                          #initial x position\n",
    "rx[0] = r[0]\n",
    "ry = np.zeros(maxstep)                          #initial y position\n",
    "ry[0] = r[1]\n",
    "#v = input(\"Enter initial velocity v = [vx,vy]\") #in [m/s]\n",
    "v = [40,40]\n",
    "vx = np.zeros(maxstep)                           #initial x velocity\n",
    "vx[0] = v[0]\n",
    "vy = np.zeros(maxstep)                           #initial y velocity\n",
    "vy[0] = v[1]\n",
    "#tau = input(\"Enter timestep, tau\")              #in seconds [s]\n",
    "tau = 0.1\n",
    "Cd = 0.35                                       #Drag coefficient []\n",
    "rho = 1.2                                       # Density of air [kg/m^3]\n",
    "A = 4.3*10**(-3)                                #Cross-sectional area of projectile [m^2]\n",
    "g = 9.81                                        #gravitational acceleration [m/s^2]\n",
    "m = 0.145                                       #mass of projectile [kg]\n",
    "air_const = -0.5*Cd*rho*A/m                     #Air resistance constant\n",
    "\n",
    "\n",
    "#MAIN LOOP\n",
    "for n in np.array(range(1,maxstep)):\n",
    "    #print(n)\n",
    "    m = n-1\n",
    "    ax = air_const*math.sqrt(vx[m]**2+vy[m]**2)*vx[m]           #accelaration in x\n",
    "    ay = air_const*math.sqrt(vx[m]**2+vy[m]**2)*vy[m] - g       #accelaration in y\n",
    "    rx[n] = rx[m] + tau*vx[m]                                     #x position\n",
    "    ry[n] = ry[m] + tau*vy[m]                                     #y position\n",
    "    vx[n] = vx[m] + tau*ax                                      #velocity in x\n",
    "    vy[n] = vy[m] + tau*ay                                      #velocity in y\n",
    "    if ry[n] < 0:\n",
    "        break\n",
    "plt.plot(rx[range(n+1)],ry[range(n+1)], 'bo')\n",
    "plt.title('Projectile motion')\n",
    "plt.xlabel('Range(m)')\n",
    "plt.ylabel('Height(m)')\n",
    "plt.plot([0, rx[n]], [0, 0], 'k-')\n",
    "\n",
    "print('Maximum range is', round(rx[n],5),'meters.')\n",
    "print('Time of flight is', round(n*tau,5),'seconds.')\n"
   ]
  }
 ],
 "metadata": {
  "kernelspec": {
   "display_name": "Python 3",
   "language": "python",
   "name": "python3"
  },
  "language_info": {
   "codemirror_mode": {
    "name": "ipython",
    "version": 3
   },
   "file_extension": ".py",
   "mimetype": "text/x-python",
   "name": "python",
   "nbconvert_exporter": "python",
   "pygments_lexer": "ipython3",
   "version": "3.7.3"
  }
 },
 "nbformat": 4,
 "nbformat_minor": 2
}
