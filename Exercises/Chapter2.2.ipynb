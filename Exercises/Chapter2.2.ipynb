{
 "cells": [
  {
   "cell_type": "markdown",
   "metadata": {},
   "source": [
    "# Chapter 2.2\n",
    "# Euler Method\n",
    "Program computes the time evolution of a simple pendulum using the Euler method."
   ]
  },
  {
   "cell_type": "code",
   "execution_count": 45,
   "metadata": {},
   "outputs": [
    {
     "name": "stdout",
     "output_type": "stream",
     "text": [
      "Turning point at time t = 1.6\n",
      "Turning point at time t = 4.8\n",
      "Turning point at time t = 8.0\n",
      "Turning point at time t = 11.1\n",
      "Turning point at time t = 14.3\n",
      "Turning point at time t = 17.5\n",
      "Turning point at time t = 20.7\n",
      "Turning point at time t = 23.9\n",
      "Turning point at time t = 27.1\n",
      "Average period = 6.375 +/- 0.02339\n"
     ]
    },
    {
     "data": {
      "text/plain": [
       "[<matplotlib.lines.Line2D at 0x11b517cf8>]"
      ]
     },
     "execution_count": 45,
     "metadata": {},
     "output_type": "execute_result"
    },
    {
     "data": {
      "image/png": "[encoded data removed]",
      "text/plain": [
       "<Figure size 432x288 with 1 Axes>"
      ]
     },
     "metadata": {
      "needs_background": "light"
     },
     "output_type": "display_data"
    }
   ],
   "source": [
    "import numpy as np\n",
    "import math\n",
    "import matplotlib.pyplot as plt\n",
    "\n",
    "#theta = input(\"Enter angle in degrees theta = \")  #in degrees\n",
    "theta = 10\n",
    "theta = theta*math.pi/180                       #convert degrees to radians\n",
    "omega = 0                                       #initial velocity\n",
    "#tau = input(\"Enter timestep, tau\")              #in seconds [s]\n",
    "tau = 0.1\n",
    "g_over_L = 1                                    #The constant g/L []\n",
    "time_old = -1                                   #Fake value (see below)\n",
    "irev = 0                                        #Used to count number of reversals\n",
    "nstep = 300                                     #number of time steps\n",
    "time = 0\n",
    "\n",
    "#Main Loop\n",
    "t_plot = np.zeros(nstep)\n",
    "theta_plot = np.zeros(nstep)\n",
    "period = np.zeros(nstep)\n",
    "for n in np.array(range(nstep)):\n",
    "    t_plot[n] = time                            #Record time and angle\n",
    "    theta_plot[n] = theta*180/math.pi           #theta for plotting\n",
    "    a = -g_over_L*math.sin(theta)               #Gravitational acceleration\n",
    "    theta_old = theta  \n",
    "    theta = theta +tau*omega                    #Euler Method\n",
    "    omega = omega +tau*a\n",
    "    time = time + tau\n",
    "    if theta*theta_old < 0:                    #Test position for sign change\n",
    "        print('Turning point at time t =', round(time,5))\n",
    "        if time_old < 0:                       #If this is just the first change\n",
    "            time_old = time                    #just record the time\n",
    "        else:\n",
    "            irev = irev + 1                    #Increment the number of reversals\n",
    "            period[irev] = 2*(time - time_old)\n",
    "            time_old = time\n",
    "print('Average period =', round(np.mean(period[range(1,irev+1)]),5),'+/-', round(np.std(period[range(1,irev+1)])/math.sqrt(irev),5))\n",
    "#Graph the oscillations\n",
    "plt.plot(t_plot,theta_plot, '+')\n",
    "plt.title('Simple pendulum')\n",
    "plt.xlabel('Time')\n",
    "plt.ylabel('Theta (degrees)')\n",
    "plt.plot([0, t_plot[n]], [0, 0], 'k-')"
   ]
  },
  {
   "cell_type": "code",
   "execution_count": 46,
   "metadata": {},
   "outputs": [
    {
     "name": "stdout",
     "output_type": "stream",
     "text": [
      "Turning point at time t = 1.6\n",
      "Turning point at time t = 4.75\n",
      "Turning point at time t = 7.9\n",
      "Turning point at time t = 11.05\n",
      "Turning point at time t = 14.2\n",
      "Turning point at time t = 17.35\n",
      "Turning point at time t = 20.55\n",
      "Turning point at time t = 23.7\n",
      "Turning point at time t = 26.85\n",
      "Average period = 6.3125 +/- 0.01169\n"
     ]
    },
    {
     "data": {
      "text/plain": [
       "[<matplotlib.lines.Line2D at 0x11b669a58>]"
      ]
     },
     "execution_count": 46,
     "metadata": {},
     "output_type": "execute_result"
    },
    {
     "data": {
      "image/png": "[encoded data removed]",
      "text/plain": [
       "<Figure size 432x288 with 1 Axes>"
      ]
     },
     "metadata": {
      "needs_background": "light"
     },
     "output_type": "display_data"
    }
   ],
   "source": [
    "import numpy as np\n",
    "import math\n",
    "import matplotlib.pyplot as plt\n",
    "\n",
    "#theta = input(\"Enter angle in degrees theta = \")  #in degrees\n",
    "theta = 10\n",
    "theta = theta*math.pi/180                       #convert degrees to radians\n",
    "omega = 0                                       #initial velocity\n",
    "#tau = input(\"Enter timestep, tau\")              #in seconds [s]\n",
    "tau = 0.05\n",
    "g_over_L = 1                                    #The constant g/L []\n",
    "time_old = -1                                   #Fake value (see below)\n",
    "irev = 0                                        #Used to count number of reversals\n",
    "nstep = 600                                     #number of time steps\n",
    "time = 0\n",
    "\n",
    "#Main Loop\n",
    "t_plot = np.zeros(nstep)\n",
    "theta_plot = np.zeros(nstep)\n",
    "period = np.zeros(nstep)\n",
    "for n in np.array(range(nstep)):\n",
    "    t_plot[n] = time                            #Record time and angle\n",
    "    theta_plot[n] = theta*180/math.pi           #theta for plotting\n",
    "    a = -g_over_L*math.sin(theta)               #Gravitational acceleration\n",
    "    theta_old = theta  \n",
    "    theta = theta +tau*omega                    #Euler Method\n",
    "    omega = omega +tau*a\n",
    "    time = time + tau\n",
    "    if theta*theta_old < 0:                    #Test position for sign change\n",
    "        print('Turning point at time t =', round(time,5))\n",
    "        if time_old < 0:                       #If this is just the first change\n",
    "            time_old = time                    #just record the time\n",
    "        else:\n",
    "            irev = irev + 1                    #Increment the number of reversals\n",
    "            period[irev] = 2*(time - time_old)\n",
    "            time_old = time\n",
    "print('Average period =', round(np.mean(period[range(1,irev+1)]),5),'+/-', round(np.std(period[range(1,irev+1)])/math.sqrt(irev),5))\n",
    "#Graph the oscillations\n",
    "plt.plot(t_plot,theta_plot, '+')\n",
    "plt.title('Simple pendulum')\n",
    "plt.xlabel('Time')\n",
    "plt.ylabel('Theta (degrees)')\n",
    "plt.plot([0, t_plot[n]], [0, 0], 'k-')"
   ]
  },
  {
   "cell_type": "markdown",
   "metadata": {},
   "source": [
    "# Verlet method\n",
    "Program computes the time evolution of a simple pendulum using the Verlet scheme."
   ]
  },
  {
   "cell_type": "code",
   "execution_count": 47,
   "metadata": {},
   "outputs": [
    {
     "name": "stdout",
     "output_type": "stream",
     "text": [
      "Turning point at time t = 1.6\n",
      "Turning point at time t = 4.7\n",
      "Turning point at time t = 7.9\n",
      "Turning point at time t = 11.0\n",
      "Turning point at time t = 14.2\n",
      "Turning point at time t = 17.3\n",
      "Turning point at time t = 20.5\n",
      "Turning point at time t = 23.6\n",
      "Turning point at time t = 26.7\n",
      "Turning point at time t = 29.9\n",
      "Average period = 0.18867 +/- 0.35765\n"
     ]
    },
    {
     "data": {
      "text/plain": [
       "[<matplotlib.lines.Line2D at 0x11b6d1390>]"
      ]
     },
     "execution_count": 47,
     "metadata": {},
     "output_type": "execute_result"
    },
    {
     "data": {
      "image/png": "[encoded data removed]",
      "text/plain": [
       "<Figure size 432x288 with 1 Axes>"
      ]
     },
     "metadata": {
      "needs_background": "light"
     },
     "output_type": "display_data"
    }
   ],
   "source": [
    "import numpy as np\n",
    "import math\n",
    "import matplotlib.pyplot as plt\n",
    "\n",
    "#theta = input(\"Enter angle in degrees theta = \")  #in degrees\n",
    "theta = 10\n",
    "theta = theta*math.pi/180                       #convert degrees to radians\n",
    "omega = 0                                       #initial velocity\n",
    "#tau = input(\"Enter timestep, tau\")              #in seconds [s]\n",
    "tau = 0.1\n",
    "g_over_L = 1                                    #The constant g/L []\n",
    "time_old = -1                                   #Fake value (see below)\n",
    "irev = 0                                        #Used to count number of reversals\n",
    "nstep = 300                                     #number of time steps\n",
    "time = 0\n",
    "\n",
    "#Main Loop\n",
    "t_plot = np.zeros(nstep)\n",
    "theta_plot = np.zeros(nstep)\n",
    "period = np.zeros(nstep)\n",
    "theta_old = theta - omega*tau                   #Take one backward Euler step in order to start\n",
    "for n in np.array(range(nstep)):\n",
    "    t_plot[n] = time                            #Record time and angle\n",
    "    theta_plot[n] = theta*180/math.pi           #theta for plotting\n",
    "    a = -g_over_L*math.sin(theta)               #Gravitational acceleration\n",
    "    theta_new = 2*theta - theta_old +tau**2*a   #Verlet method\n",
    "    theta_old = theta\n",
    "    theta = theta_new\n",
    "    time = time + tau\n",
    "    if theta*theta_old < 0:                    #Test position for sign change\n",
    "        print('Turning point at time t =', round(time,5))\n",
    "        if time_old < 0:                       #If this is just the first change\n",
    "            time_old = time                    #just record the time\n",
    "        else:\n",
    "            irev = irev + 1                    #Increment the number of reversals\n",
    "            period[irev] = 2*(time - time_old)\n",
    "            time_old = time\n",
    "print('Average period =', round(np.mean(period),5),'+/-', round(np.std(period)/math.sqrt(irev),5))\n",
    "#Graph the oscillations\n",
    "plt.plot(t_plot,theta_plot, '+')\n",
    "plt.title('Simple pendulum')\n",
    "plt.xlabel('Time')\n",
    "plt.ylabel('Theta (degrees)')\n",
    "plt.plot([0, t_plot[n]], [0, 0], 'k-')\n",
    "\n"
   ]
  },
  {
   "cell_type": "code",
   "execution_count": 48,
   "metadata": {},
   "outputs": [
    {
     "name": "stdout",
     "output_type": "stream",
     "text": [
      "Turning point at time t = 3.8\n",
      "Turning point at time t = 11.5\n",
      "Turning point at time t = 19.2\n",
      "Turning point at time t = 26.8\n",
      "Average period = 0.15333 +/- 0.88085\n"
     ]
    },
    {
     "data": {
      "text/plain": [
       "[<matplotlib.lines.Line2D at 0x11b7b9d30>]"
      ]
     },
     "execution_count": 48,
     "metadata": {},
     "output_type": "execute_result"
    },
    {
     "data": {
      "image/png": "[encoded data removed]",
      "text/plain": [
       "<Figure size 432x288 with 1 Axes>"
      ]
     },
     "metadata": {
      "needs_background": "light"
     },
     "output_type": "display_data"
    }
   ],
   "source": [
    "import numpy as np\n",
    "import math\n",
    "import matplotlib.pyplot as plt\n",
    "\n",
    "#theta = input(\"Enter angle in degrees theta = \")  #in degrees\n",
    "theta = 170\n",
    "theta = theta*math.pi/180                       #convert degrees to radians\n",
    "omega = 0                                       #initial velocity\n",
    "#tau = input(\"Enter timestep, tau\")              #in seconds [s]\n",
    "tau = 0.1\n",
    "g_over_L = 1                                    #The constant g/L []\n",
    "time_old = -1                                   #Fake value (see below)\n",
    "irev = 0                                        #Used to count number of reversals\n",
    "nstep = 300                                     #number of time steps\n",
    "time = 0\n",
    "\n",
    "#Main Loop\n",
    "t_plot = np.zeros(nstep)\n",
    "theta_plot = np.zeros(nstep)\n",
    "period = np.zeros(nstep)\n",
    "theta_old = theta - omega*tau                   #Take one backward Euler step in order to start\n",
    "for n in np.array(range(nstep)):\n",
    "    t_plot[n] = time                            #Record time and angle\n",
    "    theta_plot[n] = theta*180/math.pi           #theta for plotting\n",
    "    a = -g_over_L*math.sin(theta)               #Gravitational acceleration\n",
    "    theta_new = 2*theta - theta_old +tau**2*a   #Verlet method\n",
    "    theta_old = theta\n",
    "    theta = theta_new\n",
    "    time = time + tau\n",
    "    if theta*theta_old < 0:                    #Test position for sign change\n",
    "        print('Turning point at time t =', round(time,5))\n",
    "        if time_old < 0:                       #If this is just the first change\n",
    "            time_old = time                    #just record the time\n",
    "        else:\n",
    "            irev = irev + 1                    #Increment the number of reversals\n",
    "            period[irev] = 2*(time - time_old)\n",
    "            time_old = time\n",
    "print('Average period =', round(np.mean(period),5),'+/-', round(np.std(period)/math.sqrt(irev),5))\n",
    "#Graph the oscillations\n",
    "plt.plot(t_plot,theta_plot, '+')\n",
    "plt.title('Simple pendulum')\n",
    "plt.xlabel('Time')\n",
    "plt.ylabel('Theta (degrees)')\n",
    "plt.plot([0, t_plot[n]], [0, 0], 'k-')\n",
    "\n"
   ]
  },
  {
   "cell_type": "markdown",
   "metadata": {},
   "source": [
    "# Exercise 2.8"
   ]
  },
  {
   "cell_type": "code",
   "execution_count": null,
   "metadata": {},
   "outputs": [],
   "source": []
  }
 ],
 "metadata": {
  "kernelspec": {
   "display_name": "Python 3",
   "language": "python",
   "name": "python3"
  },
  "language_info": {
   "codemirror_mode": {
    "name": "ipython",
    "version": 3
   },
   "file_extension": ".py",
   "mimetype": "text/x-python",
   "name": "python",
   "nbconvert_exporter": "python",
   "pygments_lexer": "ipython3",
   "version": "3.7.3"
  }
 },
 "nbformat": 4,
 "nbformat_minor": 2
}
